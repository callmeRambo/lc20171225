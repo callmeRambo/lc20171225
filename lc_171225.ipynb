{
 "cells": [
  {
   "cell_type": "markdown",
   "metadata": {},
   "source": [
    "interleaving string\n",
    "\n",
    "given s1,s2,s3 find whether s3 is formed by the interleaving of s1 and s2\n"
   ]
  },
  {
   "cell_type": "code",
   "execution_count": 3,
   "metadata": {
    "collapsed": true
   },
   "outputs": [],
   "source": [
    "s1 = \"aabcc\"\n",
    "s2 = \"dbbca\"\n",
    "\n",
    "s3 = \"aadbbcbcac\"#returns true\n",
    "s4 = \"aadbbbaccc\"#returns false"
   ]
  },
  {
   "cell_type": "code",
   "execution_count": 32,
   "metadata": {},
   "outputs": [
    {
     "name": "stdout",
     "output_type": "stream",
     "text": [
      "aabcc dbbca aadbbcbcac\n",
      "abcc dbbca adbbcbcac\n",
      "bcc dbbca dbbcbcac\n",
      "bcc bbca bbcbcac\n",
      "cc bbca bcbcac\n",
      "cc bca cbcac\n",
      "c bca bcac\n",
      "c ca cac\n",
      " ca ac\n",
      "c a ac\n",
      "c  c\n",
      "  \n"
     ]
    },
    {
     "data": {
      "text/plain": [
       "1"
      ]
     },
     "execution_count": 32,
     "metadata": {},
     "output_type": "execute_result"
    }
   ],
   "source": [
    "def interleaving(s1,s2,s3):\n",
    "    if s3 == \"\" and s1 == \"\" and s2 == \"\":\n",
    "        return 1\n",
    "    if s1!=\"\" and s3.startswith(s1[0]) and interleaving(s1[1:],s2,s3[1:]):\n",
    "        return 1\n",
    "    if s2!=\"\" and s3.startswith(s2[0]) and interleaving(s1,s2[1:],s3[1:]):\n",
    "        return 1\n",
    "    return 0\n",
    "interleaving(s1,s2,s3)"
   ]
  },
  {
   "cell_type": "code",
   "execution_count": 27,
   "metadata": {},
   "outputs": [
    {
     "data": {
      "text/plain": [
       "0"
      ]
     },
     "execution_count": 27,
     "metadata": {},
     "output_type": "execute_result"
    }
   ],
   "source": [
    "def interleaving(s1,s2,s3):\n",
    "    if s3 == \"\" and s1 == \"\" and s2 == \"\":\n",
    "        return 1\n",
    "    if s1!=\"\" and s3.startswith(s1[0]):\n",
    "        interleaving(s1[1:],s2,s3[1:])\n",
    "    if s2!=\"\" and s3.startswith(s2[0]):\n",
    "        interleaving(s2[1:],s1,s3[1:])\n",
    "    return 0 \n",
    "\n",
    "interleaving(s1,s2,s3)"
   ]
  }
 ],
 "metadata": {
  "kernelspec": {
   "display_name": "Python 3",
   "language": "python",
   "name": "python3"
  },
  "language_info": {
   "codemirror_mode": {
    "name": "ipython",
    "version": 3
   },
   "file_extension": ".py",
   "mimetype": "text/x-python",
   "name": "python",
   "nbconvert_exporter": "python",
   "pygments_lexer": "ipython3",
   "version": "3.5.2"
  }
 },
 "nbformat": 4,
 "nbformat_minor": 2
}
